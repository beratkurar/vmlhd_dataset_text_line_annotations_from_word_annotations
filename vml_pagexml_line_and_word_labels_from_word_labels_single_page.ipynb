{
 "cells": [
  {
   "cell_type": "code",
   "execution_count": 1,
   "metadata": {},
   "outputs": [],
   "source": [
    "import cv2\n",
    "from lxml import etree as ET\n",
    "import numpy as np\n",
    "%matplotlib inline\n",
    "from matplotlib import pyplot as plt\n",
    "from PIL import ImageFont, ImageDraw, Image\n",
    "from bidi.algorithm import get_display\n",
    "import arabic_reshaper"
   ]
  },
  {
   "cell_type": "code",
   "execution_count": 2,
   "metadata": {},
   "outputs": [],
   "source": [
    "image_path = '0007-1.png'\n",
    "xml_file_path='annotation.xml'\n"
   ]
  },
  {
   "cell_type": "code",
   "execution_count": 3,
   "metadata": {},
   "outputs": [],
   "source": [
    "def coordinates(cnt):\n",
    "    coords= str(cnt[0])+','+str(cnt[1])+' '+str(cnt[0]+cnt[2])+','+str(cnt[1])+' '+str(cnt[0]+cnt[2])+','+str(cnt[1]+cnt[3])+' '+str(cnt[0])+','+str(cnt[1]+cnt[3])\n",
    "    return coords"
   ]
  },
  {
   "cell_type": "code",
   "execution_count": 4,
   "metadata": {},
   "outputs": [],
   "source": [
    "def one_box(rectList):\n",
    "    arr = []\n",
    "    for rect in rectList:\n",
    "        arr.append((rect[0],rect[1]))\n",
    "        arr.append((rect[0]+rect[2],rect[1]+rect[3]))\n",
    "    (x,y,w,h) = cv2.boundingRect(np.asarray(arr))\n",
    "    return x,y,w,h"
   ]
  },
  {
   "cell_type": "code",
   "execution_count": 5,
   "metadata": {},
   "outputs": [],
   "source": [
    "def one_label(labelList):\n",
    "    line_label=''\n",
    "    for label in labelList:\n",
    "        line_label=line_label+' '+label\n",
    "    return line_label"
   ]
  },
  {
   "cell_type": "code",
   "execution_count": 6,
   "metadata": {},
   "outputs": [],
   "source": [
    "def reduce_height(h):\n",
    "    if h <= 35:\n",
    "        reduced_h = 5\n",
    "    else:\n",
    "        reduced_h = h - 30\n",
    "    return reduced_h"
   ]
  },
  {
   "cell_type": "code",
   "execution_count": 7,
   "metadata": {},
   "outputs": [],
   "source": [
    "tree = ET.parse(xml_file_path)\n",
    "root = tree.getroot()\n",
    "word_bboxes = []\n",
    "word_labels = []\n",
    "stop = 0\n",
    "image_name = image_path[:-4]\n",
    "for image in root.iter('image'):\n",
    "    if image.attrib.get('src') == image_name:\n",
    "        for zone in root.iter('zone'):\n",
    "            stop = stop + 1\n",
    "            if stop == 100:\n",
    "                break\n",
    "            c = 0\n",
    "            for point in zone.iter('point'):\n",
    "                if c == 0:\n",
    "                    x0 = point.attrib.get('x')\n",
    "                    y0 = point.attrib.get('y')\n",
    "                if c == 1:\n",
    "                    x1 = point.attrib.get('x')\n",
    "                    y1 = point.attrib.get('y')\n",
    "                if c == 2:\n",
    "                    x2 = point.attrib.get('x')\n",
    "                    y2 = point.attrib.get('y')\n",
    "                if c == 3:\n",
    "                    x3 = point.attrib.get('x')\n",
    "                    y3 = point.attrib.get('y')\n",
    "                c = c+1\n",
    "            x = int(x0)\n",
    "            y = int(y0)\n",
    "            w = int(x1)-int(x0)\n",
    "            h = int(y2)-int(y1)          \n",
    "            word_bbox = [x, y, w, h]\n",
    "            word_bboxes.append(word_bbox)\n",
    "            id=int(zone.attrib.get('id'))\n",
    "            word_label=None\n",
    "            for segment in root.iter('segment'):\n",
    "                tid=int(segment.attrib.get('id'))\n",
    "                if tid==id:\n",
    "                    word_label= segment[1].text\n",
    "            if word_label is None:\n",
    "                print(id)\n",
    "                word_label='mislabel'\n",
    "                print ('there is a mismatch label')\n",
    "            word_labels.append(word_label)"
   ]
  },
  {
   "cell_type": "code",
   "execution_count": 8,
   "metadata": {},
   "outputs": [],
   "source": [
    "line_bboxes = []\n",
    "line_labels = []\n",
    "sorted_word_bboxes = []\n",
    "sorted_word_labels = []\n",
    "# Sort by y coordinate\n",
    "word_bboxes, word_labels = zip(*sorted(zip(word_bboxes, word_labels), key=lambda p: p[0][1]))\n",
    "word_bboxes = list(word_bboxes)\n",
    "word_labels = list(word_labels)\n",
    "# Bottom of the first rectangle is the baseline\n",
    "reduced_h = reduce_height(word_bboxes[0][3])\n",
    "baseline = word_bboxes[0][1] + reduced_h - 1\n",
    "end_idx = 0\n",
    "for i in range(len(word_bboxes)):\n",
    "    # Continue iterating until the box whose y coordinate is below the current baseline\n",
    "    if word_bboxes[i][1] > baseline:\n",
    "        # Sort the boxes whose y coordinates are above the current baseline, by their x coordinate, in descending order\n",
    "        word_bboxes[end_idx:i], word_labels[end_idx:i] = zip(*sorted(zip(word_bboxes[end_idx:i], word_labels[end_idx:i]), reverse=True, key=lambda p: p[0][0]))\n",
    "        \n",
    "        if len(word_bboxes[end_idx:i])>0:\n",
    "            line_bbox = one_box(word_bboxes[end_idx:i])\n",
    "            line_bboxes.append(line_bbox)\n",
    "            line_label = one_label(word_labels[end_idx:i])\n",
    "            line_labels.append(line_label)\n",
    "            sorted_word_bboxes.append(word_bboxes[end_idx:i])\n",
    "            sorted_word_labels.append(word_labels[end_idx:i])\n",
    "         \n",
    "        end_idx = i\n",
    "    # Update the baseline. \n",
    "    # New baseline is the bottom of the box whose y coordinate is below the current baseline\n",
    "    reduced_h = reduce_height(word_bboxes[i][3])\n",
    "    baseline = max(word_bboxes[i][1] + reduced_h - 1, baseline)\n",
    "\n",
    "# Sort the final line\n",
    "word_bboxes[end_idx:i], word_labels[end_idx:i] = zip(*sorted(zip(word_bboxes[end_idx:i], word_labels[end_idx:i]), reverse=True, key=lambda p: p[0][0]))\n",
    "if len(word_bboxes[end_idx:i])>0:\n",
    "    line_bbox = one_box(word_bboxes[end_idx:i])\n",
    "    line_bboxes.append(line_bbox)\n",
    "    line_label = one_label(word_labels[end_idx:i])\n",
    "    line_labels.append(line_label)\n",
    "    sorted_word_bboxes.append(word_bboxes[end_idx:i])\n",
    "    sorted_word_labels.append(word_labels[end_idx:i])"
   ]
  },
  {
   "cell_type": "code",
   "execution_count": 9,
   "metadata": {},
   "outputs": [
    {
     "data": {
      "text/plain": [
       "[' ت',\n",
       " ' ا و لحجا ر ة عد ت للطا فر ين و بشر لذ ين ا ا منو و عملو ا ا لصا لحا',\n",
       " ' ا ن لهم جنا ت تجر ى من تحتها ا لا نها ر كلما ر ز قو ا منها',\n",
       " ' من ثمر ة ر ز قا قا لو هذ ا ا لذ ى ر ز قنا من  قبل و ا تو به متشا بها',\n",
       " ' و لهم فيها ا ز و ا ج مطهر ة و هم فيها خا لد و ن ا ن ا لله لا',\n",
       " ' يستحى ن يضر مثلا ما بعو ضة فما فو']"
      ]
     },
     "execution_count": 9,
     "metadata": {},
     "output_type": "execute_result"
    }
   ],
   "source": [
    "line_labels"
   ]
  },
  {
   "cell_type": "code",
   "execution_count": 11,
   "metadata": {},
   "outputs": [],
   "source": [
    "xmlns = \"http://schema.primaresearch.org/PAGE/gts/pagecontent/2019-07-15\"\n",
    "xsi =\"http://www.w3.org/2001/XMLSchema-instance\"\n",
    "schemaLocation = \"http://schema.primaresearch.org/PAGE/gts/pagecontent/2019-07-15 http://schema.primaresearch.org/PAGE/gts/pagecontent/2019-07-15/pagecontent.xsd\"\n",
    "\n",
    "PcGts = ET.Element(\"{\" + xmlns + \"}PcGts\",\n",
    "                       attrib={\"{\" + xsi + \"}schemaLocation\" : schemaLocation}, \n",
    "                        nsmap={'xsi': xsi, None: xmlns})\n",
    "PcGts.set(\"pcGtsId\",\"pc-aletheiaexamplepage\")\n",
    "Metadata = ET.SubElement(PcGts, 'Metadata')\n",
    "Creator = ET.SubElement(Metadata, 'Creator')\n",
    "Creator.text='PRImA Research Lab'\n",
    "Metadata.append(Creator)\n",
    "Created = ET.SubElement(Metadata, 'Created')\n",
    "Created.text='2015-07-17T15:27:13' \n",
    "Metadata.append(Created)\n",
    "LastChange = ET.SubElement(Metadata, 'LastChange')\n",
    "LastChange.text='2017-07-14T10:03:33' \n",
    "Metadata.append(LastChange)\n",
    "Comments = ET.SubElement(Metadata, 'Comments')\n",
    "Comments.text='Example Page' \n",
    "Metadata.append(Comments)\n",
    "PcGts.append(Metadata)\n",
    "\n",
    "img = cv2.imread(image_path)\n",
    "\n",
    "rows,cols,_=img.shape\n",
    "Page=ET.SubElement(PcGts,'Page')\n",
    "Page.set('imageFilename',image_path) \n",
    "Page.set('imageWidth',str(cols))\n",
    "Page.set('imageHeight',str(rows))"
   ]
  },
  {
   "cell_type": "code",
   "execution_count": 12,
   "metadata": {},
   "outputs": [],
   "source": [
    "textregionid=0\n",
    "coords= '1,1 '+str(cols-2)+',1 '+str(cols-2)+','+str(rows-2)+' 1,'+str(rows-2)\n",
    "TextRegion = ET.SubElement(Page, 'TextRegion')   \n",
    "TextRegion.set('id','r'+str(textregionid))\n",
    "TextRegion.set('type','paragraph')\n",
    "Page.append(TextRegion)\n",
    "Coords = ET.SubElement(TextRegion, 'Coords')        \n",
    "Coords.set('points',coords)\n",
    "TextRegion.append(Coords)\n",
    "\n",
    "textlineid = 0\n",
    "wordid = 0\n",
    "for line_bbox in line_bboxes:\n",
    "    tcoords = coordinates(line_bbox)\n",
    "    TextLine = ET.SubElement(TextRegion, 'TextLine')   \n",
    "    TextLine.set('id','l'+str(textlineid))\n",
    "    TextRegion.append(TextLine)\n",
    "    \n",
    "    Coords = ET.SubElement(TextLine, 'Coords')        \n",
    "    Coords.set('points',tcoords)\n",
    "    TextLine.append(Coords)\n",
    "    \n",
    "    textlinewordid = 0\n",
    "    for word_bbox in sorted_word_bboxes[textlineid]:\n",
    "        wcoords = coordinates(word_bbox)\n",
    "        Word = ET.SubElement(TextLine, 'Word')\n",
    "        Word.set('id','w'+str(wordid))\n",
    "        Coords = ET.SubElement(Word, 'Coords')        \n",
    "        Coords.set('points',wcoords)\n",
    "        TextEquiv = ET.SubElement(Word, 'TextEquiv')\n",
    "        UnicodeTextEquiv = ET.SubElement(TextEquiv, 'Unicode')\n",
    "        UnicodeTextEquiv.text = sorted_word_labels[textlineid][textlinewordid]\n",
    "        TextEquiv.append(UnicodeTextEquiv)\n",
    "        Word.append(TextEquiv)\n",
    "        TextLine.append(Word)\n",
    "        textlinewordid = textlinewordid+1\n",
    "        wordid = wordid + 1\n",
    "    \n",
    "    TextEquiv = ET.SubElement(TextLine, 'TextEquiv')\n",
    "    UnicodeTextEquiv = ET.SubElement(TextEquiv, 'Unicode')\n",
    "    UnicodeTextEquiv.text = line_labels[textlineid]\n",
    "    TextEquiv.append(UnicodeTextEquiv)\n",
    "    TextLine.append(TextEquiv)\n",
    "    \n",
    "    textlineid = textlineid + 1\n"
   ]
  },
  {
   "cell_type": "code",
   "execution_count": 14,
   "metadata": {},
   "outputs": [],
   "source": [
    "mydata = ET.tostring(PcGts,pretty_print=True, encoding='utf-8', xml_declaration=True)\n",
    "myfile = open(image_name+'.xml', \"wb\")  \n",
    "myfile.write(mydata) \n",
    "myfile.close()"
   ]
  },
  {
   "cell_type": "code",
   "execution_count": null,
   "metadata": {},
   "outputs": [],
   "source": []
  }
 ],
 "metadata": {
  "kernelspec": {
   "display_name": "Python 3",
   "language": "python",
   "name": "python3"
  },
  "language_info": {
   "codemirror_mode": {
    "name": "ipython",
    "version": 3
   },
   "file_extension": ".py",
   "mimetype": "text/x-python",
   "name": "python",
   "nbconvert_exporter": "python",
   "pygments_lexer": "ipython3",
   "version": "3.8.6"
  }
 },
 "nbformat": 4,
 "nbformat_minor": 4
}
