{
 "cells": [
  {
   "cell_type": "code",
   "execution_count": 1,
   "metadata": {},
   "outputs": [],
   "source": [
    "import os\n",
    "from glob import glob\n",
    "import cv2\n",
    "import numpy as np\n",
    "from tqdm import tqdm\n",
    "from xml.etree import ElementTree as ET\n",
    "from bidi.algorithm import get_display\n",
    "import arabic_reshaper\n",
    "from wordcloud import WordCloud"
   ]
  },
  {
   "cell_type": "code",
   "execution_count": 2,
   "metadata": {},
   "outputs": [],
   "source": [
    "_ns = {'p': 'http://schema.primaresearch.org/PAGE/gts/pagecontent/2013-07-15'}\n",
    "dataset_folder='pinkas_images/'\n",
    "xml_folder = 'pinkas_xml/'\n",
    "output_folder = 'pinkas_word_images/'\n"
   ]
  },
  {
   "cell_type": "code",
   "execution_count": 3,
   "metadata": {},
   "outputs": [],
   "source": [
    "def get_page_filename(image_filename: str) -> str:\n",
    "    return os.path.join(os.path.dirname(image_filename),\n",
    "                        '{}.xml'.format(os.path.basename(image_filename)[:-4]))\n",
    "\n",
    "\n",
    "def get_basename(image_filename: str) -> str:\n",
    "    directory, basename = os.path.split(image_filename)\n",
    "    return '{}'.format( basename.split('.')[0])\n",
    "\n",
    "\n",
    "def save_and_resize(img: np.array, filename: str, size=None) -> None:\n",
    "    if size is not None:\n",
    "        h, w = img.shape[:2]\n",
    "        resized = cv2.resize(img, (int(w*size), int(h*size)),\n",
    "                             interpolation=cv2.INTER_LINEAR)\n",
    "        cv2.imwrite(filename, resized)\n",
    "    else:\n",
    "        cv2.imwrite(filename, img)\n",
    "        \n",
    "def xml_to_coordinates(t):\n",
    "    result = []\n",
    "    for p in t.split(' '):\n",
    "        values = p.split(',')\n",
    "        assert len(values) == 2\n",
    "        x, y = int(float(values[0])), int(float(values[1]))\n",
    "        result.append((x,y))\n",
    "    result=np.array(result)\n",
    "    return result"
   ]
  },
  {
   "cell_type": "code",
   "execution_count": 4,
   "metadata": {},
   "outputs": [],
   "source": [
    "image_filenames_list = glob('{}*.jpg'.format(dataset_folder))"
   ]
  },
  {
   "cell_type": "code",
   "execution_count": 5,
   "metadata": {},
   "outputs": [],
   "source": [
    "word_labels = []\n",
    "for image_filename in image_filenames_list:\n",
    "    img = cv2.imread(image_filename)\n",
    "    page_filename = get_page_filename(image_filename)\n",
    "    tree = ET.parse(xml_folder+os.path.basename(image_filename)[:-4]+'.xml')\n",
    "    root = tree.getroot()\n",
    "    for i in root:\n",
    "        for j in i:\n",
    "            for k in j:\n",
    "                for l in k:\n",
    "                    for m in l:\n",
    "                        for n in m:\n",
    "                            word_label=n.text\n",
    "                            word_labels.append(word_label)\n"
   ]
  },
  {
   "cell_type": "code",
   "execution_count": 14,
   "metadata": {},
   "outputs": [],
   "source": [
    "def save_wordcloud(word_labels):\n",
    "    reshaped_text = arabic_reshaper.reshape(' '.join(filter(None,total_sorted_word_labels)))\n",
    "    bidi_text = get_display(reshaped_text)\n",
    "    wordcloud = WordCloud(font_path='arial.ttf',background_color='white', mode='RGB',width=2000,height=1000,collocations = False).generate(bidi_text)\n",
    "    wordcloud.to_file(\"pinkas_wordcloud.png\")\n",
    "    return"
   ]
  },
  {
   "cell_type": "code",
   "execution_count": 15,
   "metadata": {},
   "outputs": [],
   "source": [
    "save_wordcloud(word_labels)"
   ]
  },
  {
   "cell_type": "code",
   "execution_count": null,
   "metadata": {},
   "outputs": [],
   "source": []
  }
 ],
 "metadata": {
  "kernelspec": {
   "display_name": "Python 3",
   "language": "python",
   "name": "python3"
  },
  "language_info": {
   "codemirror_mode": {
    "name": "ipython",
    "version": 3
   },
   "file_extension": ".py",
   "mimetype": "text/x-python",
   "name": "python",
   "nbconvert_exporter": "python",
   "pygments_lexer": "ipython3",
   "version": "3.8.6"
  }
 },
 "nbformat": 4,
 "nbformat_minor": 4
}
